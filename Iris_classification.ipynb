{
 "cells": [
  {
   "cell_type": "code",
   "execution_count": 21,
   "metadata": {
    "scrolled": true
   },
   "outputs": [
    {
     "name": "stdout",
     "output_type": "stream",
     "text": [
      "Using the k nearest neighbor algorithm = [2]\n",
      "The iris is virginica.\n",
      "\n",
      "Using the Logistic Regression algorithm = [2]\n",
      "The iris is virginica.\n",
      "\n",
      "Using the Decision Tree = [1]\n",
      "The iris is versicolor.\n",
      "\n",
      "Using the Support Vector Classification = [1]\n",
      "The iris is versicolor.\n",
      "\n",
      "Using the Random Forest Classification = [1]\n",
      "The iris is versicolor.\n",
      "\n"
     ]
    }
   ],
   "source": [
    "from sklearn.datasets import load_iris\n",
    "from sklearn.neighbors import KNeighborsClassifier\n",
    "from sklearn.svm import SVC\n",
    "from sklearn import tree\n",
    "from sklearn.linear_model import LogisticRegression\n",
    "from sklearn.ensemble import RandomForestClassifier\n",
    "\n",
    "\n",
    "iris = load_iris()\n",
    "x = iris.data\n",
    "y = iris.target\n",
    "\n",
    "#define a function that prints the iris' classification based on the algorithm's output\n",
    "def classifyiris(z):\n",
    "    if z[0] == 0:\n",
    "        print(\"The iris is setosa.\\n\")\n",
    "    elif z[0] == 1:\n",
    "        print(\"The iris is versicolor.\\n\")\n",
    "    else:\n",
    "        print(\"The iris is virginica.\\n\")\n",
    "\n",
    "#Using the K Nearest Neighbor Algorithm\n",
    "\n",
    "knn = KNeighborsClassifier(n_neighbors = 1)\n",
    "knn.fit(x,y)\n",
    "\n",
    "z = knn.predict([[3,5,4,2]])\n",
    "print(\"Using the k nearest neighbor algorithm =\", knn.predict([[3,5,4,2]]))\n",
    "classifyiris(z)\n",
    "\n",
    "\n",
    "#Using the Logistic Regression Algorithm\n",
    "\n",
    "lr = LogisticRegression()\n",
    "lr.fit(x,y)\n",
    "z = lr.predict([[3,5,4,2]])\n",
    "print(\"Using the Logistic Regression algorithm =\", lr.predict([[3,5,4,2]]))\n",
    "classifyiris(z)\n",
    "\n",
    "#Using the Decision Tree\n",
    "\n",
    "decision_tree = tree.DecisionTreeClassifier(criterion='gini')\n",
    "decision_tree.fit(x,y)\n",
    "z = decision_tree.predict([[3,5,4,2]])\n",
    "print(\"Using the Decision Tree =\", decision_tree.predict([[3,5,4,2]]))\n",
    "classifyiris(z)\n",
    "\n",
    "#Using Support Vector Classification\n",
    "svm = SVC(kernel='rbf', random_state=0, gamma=.10, C=1.0)\n",
    "svm.fit(x,y)\n",
    "z = svm.predict([[3,5,4,2]])\n",
    "print(\"Using the Support Vector Classification =\", svm.predict([[3,5,4,2]]))\n",
    "classifyiris(z)\n",
    "\n",
    "#Using Random Forest\n",
    "\n",
    "random_forest = RandomForestClassifier()\n",
    "random_forest.fit(x,y)\n",
    "z = random_forest.predict([[3,5,4,2]])\n",
    "print(\"Using the Random Forest Classification =\", random_forest.predict([[3,5,4,2]]))\n",
    "classifyiris(z)\n"
   ]
  },
  {
   "cell_type": "code",
   "execution_count": null,
   "metadata": {},
   "outputs": [],
   "source": []
  },
  {
   "cell_type": "code",
   "execution_count": null,
   "metadata": {},
   "outputs": [],
   "source": []
  },
  {
   "cell_type": "code",
   "execution_count": null,
   "metadata": {},
   "outputs": [],
   "source": []
  }
 ],
 "metadata": {
  "kernelspec": {
   "display_name": "Python 3",
   "language": "python",
   "name": "python3"
  },
  "language_info": {
   "codemirror_mode": {
    "name": "ipython",
    "version": 3
   },
   "file_extension": ".py",
   "mimetype": "text/x-python",
   "name": "python",
   "nbconvert_exporter": "python",
   "pygments_lexer": "ipython3",
   "version": "3.6.4"
  }
 },
 "nbformat": 4,
 "nbformat_minor": 2
}
